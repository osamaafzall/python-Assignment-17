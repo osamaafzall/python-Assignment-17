{
 "cells": [
  {
   "cell_type": "code",
   "execution_count": 1,
   "id": "f45f0a34",
   "metadata": {},
   "outputs": [],
   "source": [
    "import csv"
   ]
  },
  {
   "cell_type": "code",
   "execution_count": 2,
   "id": "37a85df4",
   "metadata": {},
   "outputs": [
    {
     "data": {
      "text/plain": [
       "['Dialect',\n",
       " 'DictReader',\n",
       " 'DictWriter',\n",
       " 'Error',\n",
       " 'QUOTE_ALL',\n",
       " 'QUOTE_MINIMAL',\n",
       " 'QUOTE_NONE',\n",
       " 'QUOTE_NONNUMERIC',\n",
       " 'Sniffer',\n",
       " 'StringIO',\n",
       " '_Dialect',\n",
       " '__all__',\n",
       " '__builtins__',\n",
       " '__cached__',\n",
       " '__doc__',\n",
       " '__file__',\n",
       " '__loader__',\n",
       " '__name__',\n",
       " '__package__',\n",
       " '__spec__',\n",
       " '__version__',\n",
       " 'excel',\n",
       " 'excel_tab',\n",
       " 'field_size_limit',\n",
       " 'get_dialect',\n",
       " 'list_dialects',\n",
       " 're',\n",
       " 'reader',\n",
       " 'register_dialect',\n",
       " 'unix_dialect',\n",
       " 'unregister_dialect',\n",
       " 'writer']"
      ]
     },
     "execution_count": 2,
     "metadata": {},
     "output_type": "execute_result"
    }
   ],
   "source": [
    "dir (csv)"
   ]
  },
  {
   "cell_type": "code",
   "execution_count": 3,
   "id": "feaf494f",
   "metadata": {},
   "outputs": [
    {
     "data": {
      "text/plain": [
       "<_io.TextIOWrapper name='student data Session 17.csv' mode='r' encoding='cp1252'>"
      ]
     },
     "execution_count": 3,
     "metadata": {},
     "output_type": "execute_result"
    }
   ],
   "source": [
    "open_file = open(\"student data Session 17.csv\", mode=\"r\")\n",
    "open_file"
   ]
  },
  {
   "cell_type": "code",
   "execution_count": 4,
   "id": "2ac29564",
   "metadata": {},
   "outputs": [
    {
     "data": {
      "text/plain": [
       "<_csv.reader at 0x1a90cc86fe0>"
      ]
     },
     "execution_count": 4,
     "metadata": {},
     "output_type": "execute_result"
    }
   ],
   "source": [
    "read = csv.reader(open_file)\n",
    "read"
   ]
  },
  {
   "cell_type": "code",
   "execution_count": 5,
   "id": "2dc350f1",
   "metadata": {},
   "outputs": [
    {
     "data": {
      "text/plain": [
       "[['roll no', 'Name', 'Chemistry', 'Physics', 'Math'],\n",
       " ['101', 'Aliza', '50', '23', '87'],\n",
       " ['102', 'Fareed', '45', '24', '88'],\n",
       " ['103', 'Basit', '46', '25', '89'],\n",
       " ['104', 'Abdullah', '47', '26', '90'],\n",
       " ['105', 'Ali', '48', '27', '67'],\n",
       " ['106', 'Mubashir', '49', '28', '68'],\n",
       " ['107', 'Waleed', '50', '29', '69'],\n",
       " ['108', 'Mansoor', '51', '30', '70'],\n",
       " ['109', 'Zain', '52', '31', '71'],\n",
       " ['110', 'Mohsin', '53', '67', '72'],\n",
       " ['111', 'Shahmeer', '54', '68', '73'],\n",
       " ['112', 'Rao', '55', '69', '74'],\n",
       " ['113', 'Aurangzeb', '56', '70', '75'],\n",
       " ['114', 'Zeeshan', '57', '71', '76'],\n",
       " ['115', 'Hamna', '58', '72', '77'],\n",
       " ['116', 'Hamza', '59', '73', '78'],\n",
       " ['117', 'Khalid', '60', '74', '79'],\n",
       " ['118', 'Behroz', '61', '75', '80'],\n",
       " ['119', 'Justin', '62', '76', '81'],\n",
       " ['120', 'Danish', '63', '77', '82'],\n",
       " ['121', 'Kainat', '64', '78', '83'],\n",
       " ['122', 'Sameer', '65', '79', '84'],\n",
       " ['123', 'Raza', '66', '80', '85'],\n",
       " ['124', 'Kumar', '67', '81', '86'],\n",
       " ['125', 'Komal', '68', '82', '87'],\n",
       " ['126', 'Erum', '69', '83', '88'],\n",
       " ['127', 'Faiza', '70', '84', '89'],\n",
       " ['128', 'Saeed', '71', '85', '90'],\n",
       " ['129', 'Waqar', '72', '86', '91'],\n",
       " ['130', 'Wali', '73', '87', '92'],\n",
       " ['131', 'Wajid', '74', '88', '93'],\n",
       " ['132', 'Waseeb', '75', '89', '94'],\n",
       " ['133', 'Shiza', '76', '90', '95'],\n",
       " ['134', 'Shabina', '77', '91', '96'],\n",
       " ['135', 'Shazain', '78', '55', '97'],\n",
       " ['136', 'Lubna', '79', '61', '98'],\n",
       " ['137', 'Laiba', '80', '88', '78'],\n",
       " ['138', 'Khursheed', '81', '56', '45'],\n",
       " ['139', 'Ali', '82', '89', '46'],\n",
       " ['140', 'Aiza', '83', '45', '89'],\n",
       " ['141', 'Aiman', '84', '92', '78'],\n",
       " ['142', 'Yasmeen', '85', '36', '56'],\n",
       " ['143', 'Tasbeel', '86', '78', '78'],\n",
       " ['144', 'Laraib', '87', '56', '54'],\n",
       " ['145', 'Saleem', '88', '78', '78'],\n",
       " ['146', 'Bismil', '89', '89', '46'],\n",
       " ['147', 'Batool', '90', '56', '79'],\n",
       " ['148', 'Iqra', '91', '33', '46'],\n",
       " ['149', 'Zarnish', '92', '78', '45'],\n",
       " ['150', 'Zara', '83', '45', '56']]"
      ]
     },
     "execution_count": 5,
     "metadata": {},
     "output_type": "execute_result"
    }
   ],
   "source": [
    "data = list(read)\n",
    "data"
   ]
  },
  {
   "cell_type": "code",
   "execution_count": 6,
   "id": "c63e478e",
   "metadata": {},
   "outputs": [
    {
     "data": {
      "text/plain": [
       "['roll no', 'Name', 'Chemistry', 'Physics', 'Math']"
      ]
     },
     "execution_count": 6,
     "metadata": {},
     "output_type": "execute_result"
    }
   ],
   "source": [
    "header = data[0]\n",
    "header"
   ]
  },
  {
   "cell_type": "code",
   "execution_count": 7,
   "id": "d11e7fa2",
   "metadata": {},
   "outputs": [
    {
     "data": {
      "text/plain": [
       "[['101', 'Aliza', '50', '23', '87'],\n",
       " ['102', 'Fareed', '45', '24', '88'],\n",
       " ['103', 'Basit', '46', '25', '89'],\n",
       " ['104', 'Abdullah', '47', '26', '90'],\n",
       " ['105', 'Ali', '48', '27', '67'],\n",
       " ['106', 'Mubashir', '49', '28', '68'],\n",
       " ['107', 'Waleed', '50', '29', '69'],\n",
       " ['108', 'Mansoor', '51', '30', '70'],\n",
       " ['109', 'Zain', '52', '31', '71'],\n",
       " ['110', 'Mohsin', '53', '67', '72'],\n",
       " ['111', 'Shahmeer', '54', '68', '73'],\n",
       " ['112', 'Rao', '55', '69', '74'],\n",
       " ['113', 'Aurangzeb', '56', '70', '75'],\n",
       " ['114', 'Zeeshan', '57', '71', '76'],\n",
       " ['115', 'Hamna', '58', '72', '77'],\n",
       " ['116', 'Hamza', '59', '73', '78'],\n",
       " ['117', 'Khalid', '60', '74', '79'],\n",
       " ['118', 'Behroz', '61', '75', '80'],\n",
       " ['119', 'Justin', '62', '76', '81'],\n",
       " ['120', 'Danish', '63', '77', '82'],\n",
       " ['121', 'Kainat', '64', '78', '83'],\n",
       " ['122', 'Sameer', '65', '79', '84'],\n",
       " ['123', 'Raza', '66', '80', '85'],\n",
       " ['124', 'Kumar', '67', '81', '86'],\n",
       " ['125', 'Komal', '68', '82', '87'],\n",
       " ['126', 'Erum', '69', '83', '88'],\n",
       " ['127', 'Faiza', '70', '84', '89'],\n",
       " ['128', 'Saeed', '71', '85', '90'],\n",
       " ['129', 'Waqar', '72', '86', '91'],\n",
       " ['130', 'Wali', '73', '87', '92'],\n",
       " ['131', 'Wajid', '74', '88', '93'],\n",
       " ['132', 'Waseeb', '75', '89', '94'],\n",
       " ['133', 'Shiza', '76', '90', '95'],\n",
       " ['134', 'Shabina', '77', '91', '96'],\n",
       " ['135', 'Shazain', '78', '55', '97'],\n",
       " ['136', 'Lubna', '79', '61', '98'],\n",
       " ['137', 'Laiba', '80', '88', '78'],\n",
       " ['138', 'Khursheed', '81', '56', '45'],\n",
       " ['139', 'Ali', '82', '89', '46'],\n",
       " ['140', 'Aiza', '83', '45', '89'],\n",
       " ['141', 'Aiman', '84', '92', '78'],\n",
       " ['142', 'Yasmeen', '85', '36', '56'],\n",
       " ['143', 'Tasbeel', '86', '78', '78'],\n",
       " ['144', 'Laraib', '87', '56', '54'],\n",
       " ['145', 'Saleem', '88', '78', '78'],\n",
       " ['146', 'Bismil', '89', '89', '46'],\n",
       " ['147', 'Batool', '90', '56', '79'],\n",
       " ['148', 'Iqra', '91', '33', '46'],\n",
       " ['149', 'Zarnish', '92', '78', '45'],\n",
       " ['150', 'Zara', '83', '45', '56']]"
      ]
     },
     "execution_count": 7,
     "metadata": {},
     "output_type": "execute_result"
    }
   ],
   "source": [
    "student_data = data[1:]\n",
    "student_data"
   ]
  },
  {
   "cell_type": "code",
   "execution_count": 8,
   "id": "9b6e9702",
   "metadata": {},
   "outputs": [
    {
     "data": {
      "text/plain": [
       "'50'"
      ]
     },
     "execution_count": 8,
     "metadata": {},
     "output_type": "execute_result"
    }
   ],
   "source": [
    "student_data[0][2]"
   ]
  },
  {
   "cell_type": "code",
   "execution_count": 9,
   "id": "42c51775",
   "metadata": {},
   "outputs": [],
   "source": [
    "chem_marks = []\n",
    "for i in student_data:\n",
    "    chem_marks.append(float(i[2]))"
   ]
  },
  {
   "cell_type": "code",
   "execution_count": 10,
   "id": "6dc8fc7f",
   "metadata": {},
   "outputs": [
    {
     "data": {
      "text/plain": [
       "[50.0,\n",
       " 45.0,\n",
       " 46.0,\n",
       " 47.0,\n",
       " 48.0,\n",
       " 49.0,\n",
       " 50.0,\n",
       " 51.0,\n",
       " 52.0,\n",
       " 53.0,\n",
       " 54.0,\n",
       " 55.0,\n",
       " 56.0,\n",
       " 57.0,\n",
       " 58.0,\n",
       " 59.0,\n",
       " 60.0,\n",
       " 61.0,\n",
       " 62.0,\n",
       " 63.0,\n",
       " 64.0,\n",
       " 65.0,\n",
       " 66.0,\n",
       " 67.0,\n",
       " 68.0,\n",
       " 69.0,\n",
       " 70.0,\n",
       " 71.0,\n",
       " 72.0,\n",
       " 73.0,\n",
       " 74.0,\n",
       " 75.0,\n",
       " 76.0,\n",
       " 77.0,\n",
       " 78.0,\n",
       " 79.0,\n",
       " 80.0,\n",
       " 81.0,\n",
       " 82.0,\n",
       " 83.0,\n",
       " 84.0,\n",
       " 85.0,\n",
       " 86.0,\n",
       " 87.0,\n",
       " 88.0,\n",
       " 89.0,\n",
       " 90.0,\n",
       " 91.0,\n",
       " 92.0,\n",
       " 83.0]"
      ]
     },
     "execution_count": 10,
     "metadata": {},
     "output_type": "execute_result"
    }
   ],
   "source": [
    "chem_marks"
   ]
  },
  {
   "cell_type": "code",
   "execution_count": 11,
   "id": "faa8e892",
   "metadata": {},
   "outputs": [
    {
     "data": {
      "text/plain": [
       "3421.0"
      ]
     },
     "execution_count": 11,
     "metadata": {},
     "output_type": "execute_result"
    }
   ],
   "source": [
    "sum(chem_marks)"
   ]
  },
  {
   "cell_type": "code",
   "execution_count": 12,
   "id": "4c6b9489",
   "metadata": {},
   "outputs": [
    {
     "data": {
      "text/plain": [
       "[50.0,\n",
       " 45.0,\n",
       " 46.0,\n",
       " 47.0,\n",
       " 48.0,\n",
       " 49.0,\n",
       " 50.0,\n",
       " 51.0,\n",
       " 52.0,\n",
       " 53.0,\n",
       " 54.0,\n",
       " 55.0,\n",
       " 56.0,\n",
       " 57.0,\n",
       " 58.0,\n",
       " 59.0,\n",
       " 60.0,\n",
       " 61.0,\n",
       " 62.0,\n",
       " 63.0,\n",
       " 64.0,\n",
       " 65.0,\n",
       " 66.0,\n",
       " 67.0,\n",
       " 68.0,\n",
       " 69.0,\n",
       " 70.0,\n",
       " 71.0,\n",
       " 72.0,\n",
       " 73.0,\n",
       " 74.0,\n",
       " 75.0,\n",
       " 76.0,\n",
       " 77.0,\n",
       " 78.0,\n",
       " 79.0,\n",
       " 80.0,\n",
       " 81.0,\n",
       " 82.0,\n",
       " 83.0,\n",
       " 84.0,\n",
       " 85.0,\n",
       " 86.0,\n",
       " 87.0,\n",
       " 88.0,\n",
       " 89.0,\n",
       " 90.0,\n",
       " 91.0,\n",
       " 92.0,\n",
       " 83.0]"
      ]
     },
     "execution_count": 12,
     "metadata": {},
     "output_type": "execute_result"
    }
   ],
   "source": [
    "chem_marks = [float(i[2]) for i in student_data]\n",
    "chem_marks"
   ]
  },
  {
   "cell_type": "code",
   "execution_count": 13,
   "id": "3dc0d851",
   "metadata": {},
   "outputs": [
    {
     "data": {
      "text/plain": [
       "3421.0"
      ]
     },
     "execution_count": 13,
     "metadata": {},
     "output_type": "execute_result"
    }
   ],
   "source": [
    "sum(chem_marks)"
   ]
  },
  {
   "cell_type": "code",
   "execution_count": 14,
   "id": "47cd6471",
   "metadata": {},
   "outputs": [
    {
     "data": {
      "text/plain": [
       "50"
      ]
     },
     "execution_count": 14,
     "metadata": {},
     "output_type": "execute_result"
    }
   ],
   "source": [
    "len(chem_marks)"
   ]
  },
  {
   "cell_type": "code",
   "execution_count": 15,
   "id": "9ad8d13a",
   "metadata": {},
   "outputs": [
    {
     "data": {
      "text/plain": [
       "68.42"
      ]
     },
     "execution_count": 15,
     "metadata": {},
     "output_type": "execute_result"
    }
   ],
   "source": [
    "Avg_chem_mark = sum(chem_marks)/len(chem_marks)\n",
    "Avg_chem_mark"
   ]
  },
  {
   "cell_type": "code",
   "execution_count": 16,
   "id": "12910a4a",
   "metadata": {},
   "outputs": [
    {
     "data": {
      "text/plain": [
       "[23.0,\n",
       " 24.0,\n",
       " 25.0,\n",
       " 26.0,\n",
       " 27.0,\n",
       " 28.0,\n",
       " 29.0,\n",
       " 30.0,\n",
       " 31.0,\n",
       " 67.0,\n",
       " 68.0,\n",
       " 69.0,\n",
       " 70.0,\n",
       " 71.0,\n",
       " 72.0,\n",
       " 73.0,\n",
       " 74.0,\n",
       " 75.0,\n",
       " 76.0,\n",
       " 77.0,\n",
       " 78.0,\n",
       " 79.0,\n",
       " 80.0,\n",
       " 81.0,\n",
       " 82.0,\n",
       " 83.0,\n",
       " 84.0,\n",
       " 85.0,\n",
       " 86.0,\n",
       " 87.0,\n",
       " 88.0,\n",
       " 89.0,\n",
       " 90.0,\n",
       " 91.0,\n",
       " 55.0,\n",
       " 61.0,\n",
       " 88.0,\n",
       " 56.0,\n",
       " 89.0,\n",
       " 45.0,\n",
       " 92.0,\n",
       " 36.0,\n",
       " 78.0,\n",
       " 56.0,\n",
       " 78.0,\n",
       " 89.0,\n",
       " 56.0,\n",
       " 33.0,\n",
       " 78.0,\n",
       " 45.0]"
      ]
     },
     "execution_count": 16,
     "metadata": {},
     "output_type": "execute_result"
    }
   ],
   "source": [
    "phy_marks = [float(i[3]) for i in student_data]\n",
    "phy_marks"
   ]
  },
  {
   "cell_type": "code",
   "execution_count": 17,
   "id": "047e7460",
   "metadata": {},
   "outputs": [
    {
     "data": {
      "text/plain": [
       "3253.0"
      ]
     },
     "execution_count": 17,
     "metadata": {},
     "output_type": "execute_result"
    }
   ],
   "source": [
    "sum(phy_marks)"
   ]
  },
  {
   "cell_type": "code",
   "execution_count": 18,
   "id": "0279ef6c",
   "metadata": {},
   "outputs": [
    {
     "data": {
      "text/plain": [
       "50"
      ]
     },
     "execution_count": 18,
     "metadata": {},
     "output_type": "execute_result"
    }
   ],
   "source": [
    "len(phy_marks)"
   ]
  },
  {
   "cell_type": "code",
   "execution_count": 19,
   "id": "4d7ca185",
   "metadata": {},
   "outputs": [
    {
     "data": {
      "text/plain": [
       "65.06"
      ]
     },
     "execution_count": 19,
     "metadata": {},
     "output_type": "execute_result"
    }
   ],
   "source": [
    "Avg_phy_mark = sum(phy_marks)/len(phy_marks)\n",
    "Avg_phy_mark"
   ]
  },
  {
   "cell_type": "code",
   "execution_count": 20,
   "id": "c2cbd6b6",
   "metadata": {},
   "outputs": [
    {
     "data": {
      "text/plain": [
       "[87.0,\n",
       " 88.0,\n",
       " 89.0,\n",
       " 90.0,\n",
       " 67.0,\n",
       " 68.0,\n",
       " 69.0,\n",
       " 70.0,\n",
       " 71.0,\n",
       " 72.0,\n",
       " 73.0,\n",
       " 74.0,\n",
       " 75.0,\n",
       " 76.0,\n",
       " 77.0,\n",
       " 78.0,\n",
       " 79.0,\n",
       " 80.0,\n",
       " 81.0,\n",
       " 82.0,\n",
       " 83.0,\n",
       " 84.0,\n",
       " 85.0,\n",
       " 86.0,\n",
       " 87.0,\n",
       " 88.0,\n",
       " 89.0,\n",
       " 90.0,\n",
       " 91.0,\n",
       " 92.0,\n",
       " 93.0,\n",
       " 94.0,\n",
       " 95.0,\n",
       " 96.0,\n",
       " 97.0,\n",
       " 98.0,\n",
       " 78.0,\n",
       " 45.0,\n",
       " 46.0,\n",
       " 89.0,\n",
       " 78.0,\n",
       " 56.0,\n",
       " 78.0,\n",
       " 54.0,\n",
       " 78.0,\n",
       " 46.0,\n",
       " 79.0,\n",
       " 46.0,\n",
       " 45.0,\n",
       " 56.0]"
      ]
     },
     "execution_count": 20,
     "metadata": {},
     "output_type": "execute_result"
    }
   ],
   "source": [
    "math_marks = [float(i[4]) for i in student_data]\n",
    "math_marks"
   ]
  },
  {
   "cell_type": "code",
   "execution_count": 21,
   "id": "c7a88381",
   "metadata": {},
   "outputs": [
    {
     "data": {
      "text/plain": [
       "3868.0"
      ]
     },
     "execution_count": 21,
     "metadata": {},
     "output_type": "execute_result"
    }
   ],
   "source": [
    "sum(math_marks)"
   ]
  },
  {
   "cell_type": "code",
   "execution_count": 22,
   "id": "d8816057",
   "metadata": {},
   "outputs": [
    {
     "data": {
      "text/plain": [
       "50"
      ]
     },
     "execution_count": 22,
     "metadata": {},
     "output_type": "execute_result"
    }
   ],
   "source": [
    "len(math_marks)"
   ]
  },
  {
   "cell_type": "code",
   "execution_count": 23,
   "id": "38feb15d",
   "metadata": {},
   "outputs": [
    {
     "data": {
      "text/plain": [
       "77.36"
      ]
     },
     "execution_count": 23,
     "metadata": {},
     "output_type": "execute_result"
    }
   ],
   "source": [
    "Avg_math_mark = sum(math_marks)/len(math_marks)\n",
    "Avg_math_mark"
   ]
  },
  {
   "cell_type": "code",
   "execution_count": 24,
   "id": "b6d21764",
   "metadata": {},
   "outputs": [
    {
     "data": {
      "text/plain": [
       "[['101', 'Aliza', '50', '23', '87'],\n",
       " ['102', 'Fareed', '45', '24', '88'],\n",
       " ['103', 'Basit', '46', '25', '89'],\n",
       " ['104', 'Abdullah', '47', '26', '90'],\n",
       " ['105', 'Ali', '48', '27', '67'],\n",
       " ['106', 'Mubashir', '49', '28', '68'],\n",
       " ['107', 'Waleed', '50', '29', '69'],\n",
       " ['108', 'Mansoor', '51', '30', '70'],\n",
       " ['109', 'Zain', '52', '31', '71'],\n",
       " ['110', 'Mohsin', '53', '67', '72'],\n",
       " ['111', 'Shahmeer', '54', '68', '73'],\n",
       " ['112', 'Rao', '55', '69', '74'],\n",
       " ['113', 'Aurangzeb', '56', '70', '75'],\n",
       " ['114', 'Zeeshan', '57', '71', '76'],\n",
       " ['115', 'Hamna', '58', '72', '77'],\n",
       " ['116', 'Hamza', '59', '73', '78'],\n",
       " ['117', 'Khalid', '60', '74', '79'],\n",
       " ['118', 'Behroz', '61', '75', '80'],\n",
       " ['119', 'Justin', '62', '76', '81'],\n",
       " ['120', 'Danish', '63', '77', '82'],\n",
       " ['121', 'Kainat', '64', '78', '83'],\n",
       " ['122', 'Sameer', '65', '79', '84'],\n",
       " ['123', 'Raza', '66', '80', '85'],\n",
       " ['124', 'Kumar', '67', '81', '86'],\n",
       " ['125', 'Komal', '68', '82', '87'],\n",
       " ['126', 'Erum', '69', '83', '88'],\n",
       " ['127', 'Faiza', '70', '84', '89'],\n",
       " ['128', 'Saeed', '71', '85', '90'],\n",
       " ['129', 'Waqar', '72', '86', '91'],\n",
       " ['130', 'Wali', '73', '87', '92'],\n",
       " ['131', 'Wajid', '74', '88', '93'],\n",
       " ['132', 'Waseeb', '75', '89', '94'],\n",
       " ['133', 'Shiza', '76', '90', '95'],\n",
       " ['134', 'Shabina', '77', '91', '96'],\n",
       " ['135', 'Shazain', '78', '55', '97'],\n",
       " ['136', 'Lubna', '79', '61', '98'],\n",
       " ['137', 'Laiba', '80', '88', '78'],\n",
       " ['138', 'Khursheed', '81', '56', '45'],\n",
       " ['139', 'Ali', '82', '89', '46'],\n",
       " ['140', 'Aiza', '83', '45', '89'],\n",
       " ['141', 'Aiman', '84', '92', '78'],\n",
       " ['142', 'Yasmeen', '85', '36', '56'],\n",
       " ['143', 'Tasbeel', '86', '78', '78'],\n",
       " ['144', 'Laraib', '87', '56', '54'],\n",
       " ['145', 'Saleem', '88', '78', '78'],\n",
       " ['146', 'Bismil', '89', '89', '46'],\n",
       " ['147', 'Batool', '90', '56', '79'],\n",
       " ['148', 'Iqra', '91', '33', '46'],\n",
       " ['149', 'Zarnish', '92', '78', '45'],\n",
       " ['150', 'Zara', '83', '45', '56']]"
      ]
     },
     "execution_count": 24,
     "metadata": {},
     "output_type": "execute_result"
    }
   ],
   "source": [
    "student_data"
   ]
  },
  {
   "cell_type": "code",
   "execution_count": 25,
   "id": "404fe858",
   "metadata": {},
   "outputs": [],
   "source": [
    "for per in student_data:\n",
    "    chem = int(per[2])\n",
    "    phy = int(per[3])\n",
    "    math = int(per[4])\n",
    "    percentage = round(chem+phy+math)/300*100,1\n",
    "    per.append(percentage)"
   ]
  },
  {
   "cell_type": "code",
   "execution_count": 26,
   "id": "76a76308",
   "metadata": {},
   "outputs": [
    {
     "data": {
      "text/plain": [
       "[['101', 'Aliza', '50', '23', '87', (53.333333333333336, 1)],\n",
       " ['102', 'Fareed', '45', '24', '88', (52.33333333333333, 1)],\n",
       " ['103', 'Basit', '46', '25', '89', (53.333333333333336, 1)],\n",
       " ['104', 'Abdullah', '47', '26', '90', (54.333333333333336, 1)],\n",
       " ['105', 'Ali', '48', '27', '67', (47.333333333333336, 1)],\n",
       " ['106', 'Mubashir', '49', '28', '68', (48.333333333333336, 1)],\n",
       " ['107', 'Waleed', '50', '29', '69', (49.333333333333336, 1)],\n",
       " ['108', 'Mansoor', '51', '30', '70', (50.33333333333333, 1)],\n",
       " ['109', 'Zain', '52', '31', '71', (51.33333333333333, 1)],\n",
       " ['110', 'Mohsin', '53', '67', '72', (64.0, 1)],\n",
       " ['111', 'Shahmeer', '54', '68', '73', (65.0, 1)],\n",
       " ['112', 'Rao', '55', '69', '74', (66.0, 1)],\n",
       " ['113', 'Aurangzeb', '56', '70', '75', (67.0, 1)],\n",
       " ['114', 'Zeeshan', '57', '71', '76', (68.0, 1)],\n",
       " ['115', 'Hamna', '58', '72', '77', (69.0, 1)],\n",
       " ['116', 'Hamza', '59', '73', '78', (70.0, 1)],\n",
       " ['117', 'Khalid', '60', '74', '79', (71.0, 1)],\n",
       " ['118', 'Behroz', '61', '75', '80', (72.0, 1)],\n",
       " ['119', 'Justin', '62', '76', '81', (73.0, 1)],\n",
       " ['120', 'Danish', '63', '77', '82', (74.0, 1)],\n",
       " ['121', 'Kainat', '64', '78', '83', (75.0, 1)],\n",
       " ['122', 'Sameer', '65', '79', '84', (76.0, 1)],\n",
       " ['123', 'Raza', '66', '80', '85', (77.0, 1)],\n",
       " ['124', 'Kumar', '67', '81', '86', (78.0, 1)],\n",
       " ['125', 'Komal', '68', '82', '87', (79.0, 1)],\n",
       " ['126', 'Erum', '69', '83', '88', (80.0, 1)],\n",
       " ['127', 'Faiza', '70', '84', '89', (81.0, 1)],\n",
       " ['128', 'Saeed', '71', '85', '90', (82.0, 1)],\n",
       " ['129', 'Waqar', '72', '86', '91', (83.0, 1)],\n",
       " ['130', 'Wali', '73', '87', '92', (84.0, 1)],\n",
       " ['131', 'Wajid', '74', '88', '93', (85.0, 1)],\n",
       " ['132', 'Waseeb', '75', '89', '94', (86.0, 1)],\n",
       " ['133', 'Shiza', '76', '90', '95', (87.0, 1)],\n",
       " ['134', 'Shabina', '77', '91', '96', (88.0, 1)],\n",
       " ['135', 'Shazain', '78', '55', '97', (76.66666666666667, 1)],\n",
       " ['136', 'Lubna', '79', '61', '98', (79.33333333333333, 1)],\n",
       " ['137', 'Laiba', '80', '88', '78', (82.0, 1)],\n",
       " ['138', 'Khursheed', '81', '56', '45', (60.66666666666667, 1)],\n",
       " ['139', 'Ali', '82', '89', '46', (72.33333333333334, 1)],\n",
       " ['140', 'Aiza', '83', '45', '89', (72.33333333333334, 1)],\n",
       " ['141', 'Aiman', '84', '92', '78', (84.66666666666667, 1)],\n",
       " ['142', 'Yasmeen', '85', '36', '56', (59.0, 1)],\n",
       " ['143', 'Tasbeel', '86', '78', '78', (80.66666666666666, 1)],\n",
       " ['144', 'Laraib', '87', '56', '54', (65.66666666666666, 1)],\n",
       " ['145', 'Saleem', '88', '78', '78', (81.33333333333333, 1)],\n",
       " ['146', 'Bismil', '89', '89', '46', (74.66666666666667, 1)],\n",
       " ['147', 'Batool', '90', '56', '79', (75.0, 1)],\n",
       " ['148', 'Iqra', '91', '33', '46', (56.666666666666664, 1)],\n",
       " ['149', 'Zarnish', '92', '78', '45', (71.66666666666667, 1)],\n",
       " ['150', 'Zara', '83', '45', '56', (61.33333333333333, 1)]]"
      ]
     },
     "execution_count": 26,
     "metadata": {},
     "output_type": "execute_result"
    }
   ],
   "source": [
    "student_data"
   ]
  },
  {
   "cell_type": "code",
   "execution_count": 28,
   "id": "224422ef",
   "metadata": {},
   "outputs": [
    {
     "data": {
      "text/plain": [
       "(61.33333333333333, 0)"
      ]
     },
     "execution_count": 28,
     "metadata": {},
     "output_type": "execute_result"
    }
   ],
   "source": [
    "round(83+45+56)/300*100,0"
   ]
  },
  {
   "cell_type": "code",
   "execution_count": 29,
   "id": "55bc1bf0",
   "metadata": {},
   "outputs": [],
   "source": [
    "data[0].append('percentage')"
   ]
  },
  {
   "cell_type": "code",
   "execution_count": 30,
   "id": "69020f5e",
   "metadata": {},
   "outputs": [
    {
     "data": {
      "text/plain": [
       "[['roll no', 'Name', 'Chemistry', 'Physics', 'Math', 'percentage'],\n",
       " ['101', 'Aliza', '50', '23', '87', (53.333333333333336, 1)],\n",
       " ['102', 'Fareed', '45', '24', '88', (52.33333333333333, 1)],\n",
       " ['103', 'Basit', '46', '25', '89', (53.333333333333336, 1)],\n",
       " ['104', 'Abdullah', '47', '26', '90', (54.333333333333336, 1)],\n",
       " ['105', 'Ali', '48', '27', '67', (47.333333333333336, 1)],\n",
       " ['106', 'Mubashir', '49', '28', '68', (48.333333333333336, 1)],\n",
       " ['107', 'Waleed', '50', '29', '69', (49.333333333333336, 1)],\n",
       " ['108', 'Mansoor', '51', '30', '70', (50.33333333333333, 1)],\n",
       " ['109', 'Zain', '52', '31', '71', (51.33333333333333, 1)],\n",
       " ['110', 'Mohsin', '53', '67', '72', (64.0, 1)],\n",
       " ['111', 'Shahmeer', '54', '68', '73', (65.0, 1)],\n",
       " ['112', 'Rao', '55', '69', '74', (66.0, 1)],\n",
       " ['113', 'Aurangzeb', '56', '70', '75', (67.0, 1)],\n",
       " ['114', 'Zeeshan', '57', '71', '76', (68.0, 1)],\n",
       " ['115', 'Hamna', '58', '72', '77', (69.0, 1)],\n",
       " ['116', 'Hamza', '59', '73', '78', (70.0, 1)],\n",
       " ['117', 'Khalid', '60', '74', '79', (71.0, 1)],\n",
       " ['118', 'Behroz', '61', '75', '80', (72.0, 1)],\n",
       " ['119', 'Justin', '62', '76', '81', (73.0, 1)],\n",
       " ['120', 'Danish', '63', '77', '82', (74.0, 1)],\n",
       " ['121', 'Kainat', '64', '78', '83', (75.0, 1)],\n",
       " ['122', 'Sameer', '65', '79', '84', (76.0, 1)],\n",
       " ['123', 'Raza', '66', '80', '85', (77.0, 1)],\n",
       " ['124', 'Kumar', '67', '81', '86', (78.0, 1)],\n",
       " ['125', 'Komal', '68', '82', '87', (79.0, 1)],\n",
       " ['126', 'Erum', '69', '83', '88', (80.0, 1)],\n",
       " ['127', 'Faiza', '70', '84', '89', (81.0, 1)],\n",
       " ['128', 'Saeed', '71', '85', '90', (82.0, 1)],\n",
       " ['129', 'Waqar', '72', '86', '91', (83.0, 1)],\n",
       " ['130', 'Wali', '73', '87', '92', (84.0, 1)],\n",
       " ['131', 'Wajid', '74', '88', '93', (85.0, 1)],\n",
       " ['132', 'Waseeb', '75', '89', '94', (86.0, 1)],\n",
       " ['133', 'Shiza', '76', '90', '95', (87.0, 1)],\n",
       " ['134', 'Shabina', '77', '91', '96', (88.0, 1)],\n",
       " ['135', 'Shazain', '78', '55', '97', (76.66666666666667, 1)],\n",
       " ['136', 'Lubna', '79', '61', '98', (79.33333333333333, 1)],\n",
       " ['137', 'Laiba', '80', '88', '78', (82.0, 1)],\n",
       " ['138', 'Khursheed', '81', '56', '45', (60.66666666666667, 1)],\n",
       " ['139', 'Ali', '82', '89', '46', (72.33333333333334, 1)],\n",
       " ['140', 'Aiza', '83', '45', '89', (72.33333333333334, 1)],\n",
       " ['141', 'Aiman', '84', '92', '78', (84.66666666666667, 1)],\n",
       " ['142', 'Yasmeen', '85', '36', '56', (59.0, 1)],\n",
       " ['143', 'Tasbeel', '86', '78', '78', (80.66666666666666, 1)],\n",
       " ['144', 'Laraib', '87', '56', '54', (65.66666666666666, 1)],\n",
       " ['145', 'Saleem', '88', '78', '78', (81.33333333333333, 1)],\n",
       " ['146', 'Bismil', '89', '89', '46', (74.66666666666667, 1)],\n",
       " ['147', 'Batool', '90', '56', '79', (75.0, 1)],\n",
       " ['148', 'Iqra', '91', '33', '46', (56.666666666666664, 1)],\n",
       " ['149', 'Zarnish', '92', '78', '45', (71.66666666666667, 1)],\n",
       " ['150', 'Zara', '83', '45', '56', (61.33333333333333, 1)]]"
      ]
     },
     "execution_count": 30,
     "metadata": {},
     "output_type": "execute_result"
    }
   ],
   "source": [
    "data"
   ]
  },
  {
   "cell_type": "code",
   "execution_count": 31,
   "id": "169575cc",
   "metadata": {},
   "outputs": [
    {
     "data": {
      "text/plain": [
       "<_io.TextIOWrapper name='data1 .csv' mode='w' encoding='cp1252'>"
      ]
     },
     "execution_count": 31,
     "metadata": {},
     "output_type": "execute_result"
    }
   ],
   "source": [
    "open_file = open(\"data1 .csv\",mode=\"w\", newline='')\n",
    "open_file"
   ]
  },
  {
   "cell_type": "code",
   "execution_count": 32,
   "id": "407cfadc",
   "metadata": {},
   "outputs": [
    {
     "data": {
      "text/plain": [
       "<_csv.writer at 0x1a90cc87dc0>"
      ]
     },
     "execution_count": 32,
     "metadata": {},
     "output_type": "execute_result"
    }
   ],
   "source": [
    "writer = csv.writer(open_file)\n",
    "writer"
   ]
  },
  {
   "cell_type": "code",
   "execution_count": 33,
   "id": "c5f03901",
   "metadata": {},
   "outputs": [],
   "source": [
    "writer.writerows(data)"
   ]
  },
  {
   "cell_type": "code",
   "execution_count": 34,
   "id": "3861976e",
   "metadata": {},
   "outputs": [],
   "source": [
    "    open_file.close()"
   ]
  },
  {
   "cell_type": "code",
   "execution_count": null,
   "id": "59d26e45",
   "metadata": {},
   "outputs": [],
   "source": []
  }
 ],
 "metadata": {
  "kernelspec": {
   "display_name": "Python 3 (ipykernel)",
   "language": "python",
   "name": "python3"
  },
  "language_info": {
   "codemirror_mode": {
    "name": "ipython",
    "version": 3
   },
   "file_extension": ".py",
   "mimetype": "text/x-python",
   "name": "python",
   "nbconvert_exporter": "python",
   "pygments_lexer": "ipython3",
   "version": "3.11.5"
  }
 },
 "nbformat": 4,
 "nbformat_minor": 5
}
